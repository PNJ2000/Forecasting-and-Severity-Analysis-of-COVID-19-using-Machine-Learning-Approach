{
 "cells": [
  {
   "cell_type": "markdown",
   "metadata": {},
   "source": [
    "# Covid Forecasting Using Machine Learning"
   ]
  },
  {
   "cell_type": "markdown",
   "metadata": {},
   "source": [
    "# import Lib"
   ]
  },
  {
   "cell_type": "code",
   "execution_count": 1,
   "metadata": {},
   "outputs": [],
   "source": [
    "import warnings\n",
    "warnings.filterwarnings(\"ignore\")"
   ]
  },
  {
   "cell_type": "code",
   "execution_count": 2,
   "metadata": {},
   "outputs": [],
   "source": [
    "import pandas as pd\n",
    "import numpy as np\n",
    "import matplotlib.pyplot as plt\n",
    "import seaborn as sns\n",
    "%matplotlib inline"
   ]
  },
  {
   "cell_type": "markdown",
   "metadata": {},
   "source": [
    "# Read Data"
   ]
  },
  {
   "cell_type": "code",
   "execution_count": 3,
   "metadata": {},
   "outputs": [],
   "source": [
    "df = pd.read_csv(\"complete.csv\")"
   ]
  },
  {
   "cell_type": "code",
   "execution_count": 4,
   "metadata": {},
   "outputs": [
    {
     "data": {
      "text/html": [
       "<div>\n",
       "<style scoped>\n",
       "    .dataframe tbody tr th:only-of-type {\n",
       "        vertical-align: middle;\n",
       "    }\n",
       "\n",
       "    .dataframe tbody tr th {\n",
       "        vertical-align: top;\n",
       "    }\n",
       "\n",
       "    .dataframe thead th {\n",
       "        text-align: right;\n",
       "    }\n",
       "</style>\n",
       "<table border=\"1\" class=\"dataframe\">\n",
       "  <thead>\n",
       "    <tr style=\"text-align: right;\">\n",
       "      <th></th>\n",
       "      <th>Date</th>\n",
       "      <th>Name of State / UT</th>\n",
       "      <th>Latitude</th>\n",
       "      <th>Longitude</th>\n",
       "      <th>Total Confirmed cases</th>\n",
       "      <th>Death</th>\n",
       "      <th>Cured/Discharged/Migrated</th>\n",
       "      <th>New cases</th>\n",
       "      <th>New deaths</th>\n",
       "      <th>New recovered</th>\n",
       "    </tr>\n",
       "  </thead>\n",
       "  <tbody>\n",
       "    <tr>\n",
       "      <th>0</th>\n",
       "      <td>30-01-2020</td>\n",
       "      <td>Kerala</td>\n",
       "      <td>10.8505</td>\n",
       "      <td>76.2711</td>\n",
       "      <td>1</td>\n",
       "      <td>0</td>\n",
       "      <td>0</td>\n",
       "      <td>0</td>\n",
       "      <td>0</td>\n",
       "      <td>0</td>\n",
       "    </tr>\n",
       "    <tr>\n",
       "      <th>1</th>\n",
       "      <td>31-01-2020</td>\n",
       "      <td>Kerala</td>\n",
       "      <td>10.8505</td>\n",
       "      <td>76.2711</td>\n",
       "      <td>1</td>\n",
       "      <td>0</td>\n",
       "      <td>0</td>\n",
       "      <td>0</td>\n",
       "      <td>0</td>\n",
       "      <td>0</td>\n",
       "    </tr>\n",
       "    <tr>\n",
       "      <th>2</th>\n",
       "      <td>01-02-2020</td>\n",
       "      <td>Kerala</td>\n",
       "      <td>10.8505</td>\n",
       "      <td>76.2711</td>\n",
       "      <td>2</td>\n",
       "      <td>0</td>\n",
       "      <td>0</td>\n",
       "      <td>1</td>\n",
       "      <td>0</td>\n",
       "      <td>0</td>\n",
       "    </tr>\n",
       "    <tr>\n",
       "      <th>3</th>\n",
       "      <td>02-02-2020</td>\n",
       "      <td>Kerala</td>\n",
       "      <td>10.8505</td>\n",
       "      <td>76.2711</td>\n",
       "      <td>3</td>\n",
       "      <td>0</td>\n",
       "      <td>0</td>\n",
       "      <td>1</td>\n",
       "      <td>0</td>\n",
       "      <td>0</td>\n",
       "    </tr>\n",
       "    <tr>\n",
       "      <th>4</th>\n",
       "      <td>03-02-2020</td>\n",
       "      <td>Kerala</td>\n",
       "      <td>10.8505</td>\n",
       "      <td>76.2711</td>\n",
       "      <td>3</td>\n",
       "      <td>0</td>\n",
       "      <td>0</td>\n",
       "      <td>0</td>\n",
       "      <td>0</td>\n",
       "      <td>0</td>\n",
       "    </tr>\n",
       "  </tbody>\n",
       "</table>\n",
       "</div>"
      ],
      "text/plain": [
       "         Date Name of State / UT  Latitude  Longitude  Total Confirmed cases  \\\n",
       "0  30-01-2020             Kerala   10.8505    76.2711                      1   \n",
       "1  31-01-2020             Kerala   10.8505    76.2711                      1   \n",
       "2  01-02-2020             Kerala   10.8505    76.2711                      2   \n",
       "3  02-02-2020             Kerala   10.8505    76.2711                      3   \n",
       "4  03-02-2020             Kerala   10.8505    76.2711                      3   \n",
       "\n",
       "  Death  Cured/Discharged/Migrated  New cases  New deaths  New recovered  \n",
       "0     0                          0          0           0              0  \n",
       "1     0                          0          0           0              0  \n",
       "2     0                          0          1           0              0  \n",
       "3     0                          0          1           0              0  \n",
       "4     0                          0          0           0              0  "
      ]
     },
     "execution_count": 4,
     "metadata": {},
     "output_type": "execute_result"
    }
   ],
   "source": [
    "df.head()"
   ]
  },
  {
   "cell_type": "code",
   "execution_count": 5,
   "metadata": {},
   "outputs": [
    {
     "data": {
      "text/html": [
       "<div>\n",
       "<style scoped>\n",
       "    .dataframe tbody tr th:only-of-type {\n",
       "        vertical-align: middle;\n",
       "    }\n",
       "\n",
       "    .dataframe tbody tr th {\n",
       "        vertical-align: top;\n",
       "    }\n",
       "\n",
       "    .dataframe thead th {\n",
       "        text-align: right;\n",
       "    }\n",
       "</style>\n",
       "<table border=\"1\" class=\"dataframe\">\n",
       "  <thead>\n",
       "    <tr style=\"text-align: right;\">\n",
       "      <th></th>\n",
       "      <th>Date</th>\n",
       "      <th>Name of State / UT</th>\n",
       "      <th>Latitude</th>\n",
       "      <th>Longitude</th>\n",
       "      <th>Total Confirmed cases</th>\n",
       "      <th>Death</th>\n",
       "      <th>Cured/Discharged/Migrated</th>\n",
       "      <th>New cases</th>\n",
       "      <th>New deaths</th>\n",
       "      <th>New recovered</th>\n",
       "    </tr>\n",
       "  </thead>\n",
       "  <tbody>\n",
       "    <tr>\n",
       "      <th>4687</th>\n",
       "      <td>06-08-2020</td>\n",
       "      <td>Telangana</td>\n",
       "      <td>18.1124</td>\n",
       "      <td>79.0193</td>\n",
       "      <td>73050</td>\n",
       "      <td>589</td>\n",
       "      <td>52103</td>\n",
       "      <td>2092</td>\n",
       "      <td>0</td>\n",
       "      <td>1289</td>\n",
       "    </tr>\n",
       "    <tr>\n",
       "      <th>4688</th>\n",
       "      <td>06-08-2020</td>\n",
       "      <td>Tripura</td>\n",
       "      <td>23.9408</td>\n",
       "      <td>91.9882</td>\n",
       "      <td>5725</td>\n",
       "      <td>31</td>\n",
       "      <td>3793</td>\n",
       "      <td>97</td>\n",
       "      <td>0</td>\n",
       "      <td>68</td>\n",
       "    </tr>\n",
       "    <tr>\n",
       "      <th>4689</th>\n",
       "      <td>06-08-2020</td>\n",
       "      <td>Uttar Pradesh</td>\n",
       "      <td>26.8467</td>\n",
       "      <td>80.9462</td>\n",
       "      <td>104388</td>\n",
       "      <td>1857</td>\n",
       "      <td>60558</td>\n",
       "      <td>4078</td>\n",
       "      <td>0</td>\n",
       "      <td>3287</td>\n",
       "    </tr>\n",
       "    <tr>\n",
       "      <th>4690</th>\n",
       "      <td>06-08-2020</td>\n",
       "      <td>Uttarakhand</td>\n",
       "      <td>30.0668</td>\n",
       "      <td>79.0193</td>\n",
       "      <td>8254</td>\n",
       "      <td>98</td>\n",
       "      <td>5233</td>\n",
       "      <td>246</td>\n",
       "      <td>0</td>\n",
       "      <td>386</td>\n",
       "    </tr>\n",
       "    <tr>\n",
       "      <th>4691</th>\n",
       "      <td>06-08-2020</td>\n",
       "      <td>West Bengal</td>\n",
       "      <td>22.9868</td>\n",
       "      <td>87.8550</td>\n",
       "      <td>83800</td>\n",
       "      <td>1846</td>\n",
       "      <td>58962</td>\n",
       "      <td>2816</td>\n",
       "      <td>0</td>\n",
       "      <td>2078</td>\n",
       "    </tr>\n",
       "  </tbody>\n",
       "</table>\n",
       "</div>"
      ],
      "text/plain": [
       "            Date Name of State / UT  Latitude  Longitude  \\\n",
       "4687  06-08-2020          Telangana   18.1124    79.0193   \n",
       "4688  06-08-2020            Tripura   23.9408    91.9882   \n",
       "4689  06-08-2020      Uttar Pradesh   26.8467    80.9462   \n",
       "4690  06-08-2020        Uttarakhand   30.0668    79.0193   \n",
       "4691  06-08-2020        West Bengal   22.9868    87.8550   \n",
       "\n",
       "      Total Confirmed cases Death  Cured/Discharged/Migrated  New cases  \\\n",
       "4687                  73050   589                      52103       2092   \n",
       "4688                   5725    31                       3793         97   \n",
       "4689                 104388  1857                      60558       4078   \n",
       "4690                   8254    98                       5233        246   \n",
       "4691                  83800  1846                      58962       2816   \n",
       "\n",
       "      New deaths  New recovered  \n",
       "4687           0           1289  \n",
       "4688           0             68  \n",
       "4689           0           3287  \n",
       "4690           0            386  \n",
       "4691           0           2078  "
      ]
     },
     "execution_count": 5,
     "metadata": {},
     "output_type": "execute_result"
    }
   ],
   "source": [
    "df.tail()"
   ]
  },
  {
   "cell_type": "code",
   "execution_count": 6,
   "metadata": {},
   "outputs": [
    {
     "data": {
      "text/plain": [
       "Date                         0\n",
       "Name of State / UT           0\n",
       "Latitude                     0\n",
       "Longitude                    0\n",
       "Total Confirmed cases        0\n",
       "Death                        0\n",
       "Cured/Discharged/Migrated    0\n",
       "New cases                    0\n",
       "New deaths                   0\n",
       "New recovered                0\n",
       "dtype: int64"
      ]
     },
     "execution_count": 6,
     "metadata": {},
     "output_type": "execute_result"
    }
   ],
   "source": [
    "df.isna().sum()"
   ]
  },
  {
   "cell_type": "code",
   "execution_count": 7,
   "metadata": {},
   "outputs": [
    {
     "data": {
      "text/plain": [
       "array(['Kerala', 'Delhi', 'Telangana', 'Haryana', 'Rajasthan',\n",
       "       'Uttar Pradesh', 'Tamil Nadu', 'Ladakh', 'Karnataka',\n",
       "       'Maharashtra', 'Punjab', 'Jammu and Kashmir', 'Andhra Pradesh',\n",
       "       'Uttarakhand', 'Odisha', 'Puducherry', 'West Bengal',\n",
       "       'Chhattisgarh', 'Chandigarh', 'Gujarat', 'Himachal Pradesh',\n",
       "       'Madhya Pradesh', 'Bihar', 'Manipur', 'Mizoram',\n",
       "       'Andaman and Nicobar Islands', 'Goa', 'Assam', 'Jharkhand',\n",
       "       'Arunachal Pradesh', 'Tripura', 'Meghalaya',\n",
       "       'Dadara & Nagar Havelli', 'Sikkim', 'Nagaland'], dtype=object)"
      ]
     },
     "execution_count": 7,
     "metadata": {},
     "output_type": "execute_result"
    }
   ],
   "source": [
    "df['Name of State / UT'].unique()"
   ]
  },
  {
   "cell_type": "code",
   "execution_count": 8,
   "metadata": {},
   "outputs": [
    {
     "data": {
      "text/plain": [
       "(4692, 10)"
      ]
     },
     "execution_count": 8,
     "metadata": {},
     "output_type": "execute_result"
    }
   ],
   "source": [
    "df.shape"
   ]
  },
  {
   "cell_type": "code",
   "execution_count": 9,
   "metadata": {},
   "outputs": [],
   "source": [
    "#select one state\n",
    "sta = ['Karnataka']\n",
    "df1 = df[df['Name of State / UT']==sta[0]]"
   ]
  },
  {
   "cell_type": "code",
   "execution_count": 10,
   "metadata": {},
   "outputs": [
    {
     "data": {
      "text/html": [
       "<div>\n",
       "<style scoped>\n",
       "    .dataframe tbody tr th:only-of-type {\n",
       "        vertical-align: middle;\n",
       "    }\n",
       "\n",
       "    .dataframe tbody tr th {\n",
       "        vertical-align: top;\n",
       "    }\n",
       "\n",
       "    .dataframe thead th {\n",
       "        text-align: right;\n",
       "    }\n",
       "</style>\n",
       "<table border=\"1\" class=\"dataframe\">\n",
       "  <thead>\n",
       "    <tr style=\"text-align: right;\">\n",
       "      <th></th>\n",
       "      <th>Date</th>\n",
       "      <th>Name of State / UT</th>\n",
       "      <th>Latitude</th>\n",
       "      <th>Longitude</th>\n",
       "      <th>Total Confirmed cases</th>\n",
       "      <th>Death</th>\n",
       "      <th>Cured/Discharged/Migrated</th>\n",
       "      <th>New cases</th>\n",
       "      <th>New deaths</th>\n",
       "      <th>New recovered</th>\n",
       "    </tr>\n",
       "  </thead>\n",
       "  <tbody>\n",
       "    <tr>\n",
       "      <th>74</th>\n",
       "      <td>09-03-2020</td>\n",
       "      <td>Karnataka</td>\n",
       "      <td>15.3173</td>\n",
       "      <td>75.7139</td>\n",
       "      <td>1</td>\n",
       "      <td>0</td>\n",
       "      <td>0</td>\n",
       "      <td>0</td>\n",
       "      <td>0</td>\n",
       "      <td>0</td>\n",
       "    </tr>\n",
       "    <tr>\n",
       "      <th>86</th>\n",
       "      <td>10-03-2020</td>\n",
       "      <td>Karnataka</td>\n",
       "      <td>15.3173</td>\n",
       "      <td>75.7139</td>\n",
       "      <td>4</td>\n",
       "      <td>0</td>\n",
       "      <td>0</td>\n",
       "      <td>3</td>\n",
       "      <td>0</td>\n",
       "      <td>0</td>\n",
       "    </tr>\n",
       "    <tr>\n",
       "      <th>98</th>\n",
       "      <td>11-03-2020</td>\n",
       "      <td>Karnataka</td>\n",
       "      <td>15.3173</td>\n",
       "      <td>75.7139</td>\n",
       "      <td>4</td>\n",
       "      <td>0</td>\n",
       "      <td>0</td>\n",
       "      <td>0</td>\n",
       "      <td>0</td>\n",
       "      <td>0</td>\n",
       "    </tr>\n",
       "    <tr>\n",
       "      <th>111</th>\n",
       "      <td>12-03-2020</td>\n",
       "      <td>Karnataka</td>\n",
       "      <td>15.3173</td>\n",
       "      <td>75.7139</td>\n",
       "      <td>4</td>\n",
       "      <td>1</td>\n",
       "      <td>0</td>\n",
       "      <td>0</td>\n",
       "      <td>0</td>\n",
       "      <td>0</td>\n",
       "    </tr>\n",
       "    <tr>\n",
       "      <th>124</th>\n",
       "      <td>13-03-2020</td>\n",
       "      <td>Karnataka</td>\n",
       "      <td>15.3173</td>\n",
       "      <td>75.7139</td>\n",
       "      <td>5</td>\n",
       "      <td>1</td>\n",
       "      <td>0</td>\n",
       "      <td>1</td>\n",
       "      <td>0</td>\n",
       "      <td>0</td>\n",
       "    </tr>\n",
       "  </tbody>\n",
       "</table>\n",
       "</div>"
      ],
      "text/plain": [
       "           Date Name of State / UT  Latitude  Longitude  \\\n",
       "74   09-03-2020          Karnataka   15.3173    75.7139   \n",
       "86   10-03-2020          Karnataka   15.3173    75.7139   \n",
       "98   11-03-2020          Karnataka   15.3173    75.7139   \n",
       "111  12-03-2020          Karnataka   15.3173    75.7139   \n",
       "124  13-03-2020          Karnataka   15.3173    75.7139   \n",
       "\n",
       "     Total Confirmed cases Death  Cured/Discharged/Migrated  New cases  \\\n",
       "74                       1     0                          0          0   \n",
       "86                       4     0                          0          3   \n",
       "98                       4     0                          0          0   \n",
       "111                      4     1                          0          0   \n",
       "124                      5     1                          0          1   \n",
       "\n",
       "     New deaths  New recovered  \n",
       "74            0              0  \n",
       "86            0              0  \n",
       "98            0              0  \n",
       "111           0              0  \n",
       "124           0              0  "
      ]
     },
     "execution_count": 10,
     "metadata": {},
     "output_type": "execute_result"
    }
   ],
   "source": [
    "df1.head()"
   ]
  },
  {
   "cell_type": "code",
   "execution_count": 11,
   "metadata": {},
   "outputs": [
    {
     "data": {
      "text/html": [
       "<div>\n",
       "<style scoped>\n",
       "    .dataframe tbody tr th:only-of-type {\n",
       "        vertical-align: middle;\n",
       "    }\n",
       "\n",
       "    .dataframe tbody tr th {\n",
       "        vertical-align: top;\n",
       "    }\n",
       "\n",
       "    .dataframe thead th {\n",
       "        text-align: right;\n",
       "    }\n",
       "</style>\n",
       "<table border=\"1\" class=\"dataframe\">\n",
       "  <thead>\n",
       "    <tr style=\"text-align: right;\">\n",
       "      <th></th>\n",
       "      <th>Date</th>\n",
       "      <th>Name of State / UT</th>\n",
       "      <th>Latitude</th>\n",
       "      <th>Longitude</th>\n",
       "      <th>Total Confirmed cases</th>\n",
       "      <th>Death</th>\n",
       "      <th>Cured/Discharged/Migrated</th>\n",
       "      <th>New cases</th>\n",
       "      <th>New deaths</th>\n",
       "      <th>New recovered</th>\n",
       "    </tr>\n",
       "  </thead>\n",
       "  <tbody>\n",
       "    <tr>\n",
       "      <th>4532</th>\n",
       "      <td>02-08-2020</td>\n",
       "      <td>Karnataka</td>\n",
       "      <td>15.3173</td>\n",
       "      <td>75.7139</td>\n",
       "      <td>129287</td>\n",
       "      <td>2412</td>\n",
       "      <td>53648</td>\n",
       "      <td>5172</td>\n",
       "      <td>0</td>\n",
       "      <td>3860</td>\n",
       "    </tr>\n",
       "    <tr>\n",
       "      <th>4567</th>\n",
       "      <td>03-08-2020</td>\n",
       "      <td>Karnataka</td>\n",
       "      <td>15.3173</td>\n",
       "      <td>75.7139</td>\n",
       "      <td>134819</td>\n",
       "      <td>2496</td>\n",
       "      <td>57725</td>\n",
       "      <td>5532</td>\n",
       "      <td>0</td>\n",
       "      <td>4077</td>\n",
       "    </tr>\n",
       "    <tr>\n",
       "      <th>4602</th>\n",
       "      <td>04-08-2020</td>\n",
       "      <td>Karnataka</td>\n",
       "      <td>15.3173</td>\n",
       "      <td>75.7139</td>\n",
       "      <td>139571</td>\n",
       "      <td>2594</td>\n",
       "      <td>62500</td>\n",
       "      <td>4752</td>\n",
       "      <td>0</td>\n",
       "      <td>4775</td>\n",
       "    </tr>\n",
       "    <tr>\n",
       "      <th>4637</th>\n",
       "      <td>05-08-2020</td>\n",
       "      <td>Karnataka</td>\n",
       "      <td>15.3173</td>\n",
       "      <td>75.7139</td>\n",
       "      <td>145830</td>\n",
       "      <td>2704</td>\n",
       "      <td>69272</td>\n",
       "      <td>6259</td>\n",
       "      <td>0</td>\n",
       "      <td>6772</td>\n",
       "    </tr>\n",
       "    <tr>\n",
       "      <th>4672</th>\n",
       "      <td>06-08-2020</td>\n",
       "      <td>Karnataka</td>\n",
       "      <td>15.3173</td>\n",
       "      <td>75.7139</td>\n",
       "      <td>151449</td>\n",
       "      <td>2804</td>\n",
       "      <td>74679</td>\n",
       "      <td>5619</td>\n",
       "      <td>0</td>\n",
       "      <td>5407</td>\n",
       "    </tr>\n",
       "  </tbody>\n",
       "</table>\n",
       "</div>"
      ],
      "text/plain": [
       "            Date Name of State / UT  Latitude  Longitude  \\\n",
       "4532  02-08-2020          Karnataka   15.3173    75.7139   \n",
       "4567  03-08-2020          Karnataka   15.3173    75.7139   \n",
       "4602  04-08-2020          Karnataka   15.3173    75.7139   \n",
       "4637  05-08-2020          Karnataka   15.3173    75.7139   \n",
       "4672  06-08-2020          Karnataka   15.3173    75.7139   \n",
       "\n",
       "      Total Confirmed cases Death  Cured/Discharged/Migrated  New cases  \\\n",
       "4532                 129287  2412                      53648       5172   \n",
       "4567                 134819  2496                      57725       5532   \n",
       "4602                 139571  2594                      62500       4752   \n",
       "4637                 145830  2704                      69272       6259   \n",
       "4672                 151449  2804                      74679       5619   \n",
       "\n",
       "      New deaths  New recovered  \n",
       "4532           0           3860  \n",
       "4567           0           4077  \n",
       "4602           0           4775  \n",
       "4637           0           6772  \n",
       "4672           0           5407  "
      ]
     },
     "execution_count": 11,
     "metadata": {},
     "output_type": "execute_result"
    }
   ],
   "source": [
    "df1.tail()"
   ]
  },
  {
   "cell_type": "code",
   "execution_count": 12,
   "metadata": {},
   "outputs": [
    {
     "data": {
      "text/plain": [
       "(147, 10)"
      ]
     },
     "execution_count": 12,
     "metadata": {},
     "output_type": "execute_result"
    }
   ],
   "source": [
    "df1.shape"
   ]
  },
  {
   "cell_type": "code",
   "execution_count": 13,
   "metadata": {},
   "outputs": [],
   "source": [
    "df1.reset_index(drop=True,inplace=True)"
   ]
  },
  {
   "cell_type": "code",
   "execution_count": 14,
   "metadata": {},
   "outputs": [
    {
     "data": {
      "text/html": [
       "<div>\n",
       "<style scoped>\n",
       "    .dataframe tbody tr th:only-of-type {\n",
       "        vertical-align: middle;\n",
       "    }\n",
       "\n",
       "    .dataframe tbody tr th {\n",
       "        vertical-align: top;\n",
       "    }\n",
       "\n",
       "    .dataframe thead th {\n",
       "        text-align: right;\n",
       "    }\n",
       "</style>\n",
       "<table border=\"1\" class=\"dataframe\">\n",
       "  <thead>\n",
       "    <tr style=\"text-align: right;\">\n",
       "      <th></th>\n",
       "      <th>Date</th>\n",
       "      <th>Name of State / UT</th>\n",
       "      <th>Latitude</th>\n",
       "      <th>Longitude</th>\n",
       "      <th>Total Confirmed cases</th>\n",
       "      <th>Death</th>\n",
       "      <th>Cured/Discharged/Migrated</th>\n",
       "      <th>New cases</th>\n",
       "      <th>New deaths</th>\n",
       "      <th>New recovered</th>\n",
       "    </tr>\n",
       "  </thead>\n",
       "  <tbody>\n",
       "    <tr>\n",
       "      <th>0</th>\n",
       "      <td>09-03-2020</td>\n",
       "      <td>Karnataka</td>\n",
       "      <td>15.3173</td>\n",
       "      <td>75.7139</td>\n",
       "      <td>1</td>\n",
       "      <td>0</td>\n",
       "      <td>0</td>\n",
       "      <td>0</td>\n",
       "      <td>0</td>\n",
       "      <td>0</td>\n",
       "    </tr>\n",
       "    <tr>\n",
       "      <th>1</th>\n",
       "      <td>10-03-2020</td>\n",
       "      <td>Karnataka</td>\n",
       "      <td>15.3173</td>\n",
       "      <td>75.7139</td>\n",
       "      <td>4</td>\n",
       "      <td>0</td>\n",
       "      <td>0</td>\n",
       "      <td>3</td>\n",
       "      <td>0</td>\n",
       "      <td>0</td>\n",
       "    </tr>\n",
       "    <tr>\n",
       "      <th>2</th>\n",
       "      <td>11-03-2020</td>\n",
       "      <td>Karnataka</td>\n",
       "      <td>15.3173</td>\n",
       "      <td>75.7139</td>\n",
       "      <td>4</td>\n",
       "      <td>0</td>\n",
       "      <td>0</td>\n",
       "      <td>0</td>\n",
       "      <td>0</td>\n",
       "      <td>0</td>\n",
       "    </tr>\n",
       "    <tr>\n",
       "      <th>3</th>\n",
       "      <td>12-03-2020</td>\n",
       "      <td>Karnataka</td>\n",
       "      <td>15.3173</td>\n",
       "      <td>75.7139</td>\n",
       "      <td>4</td>\n",
       "      <td>1</td>\n",
       "      <td>0</td>\n",
       "      <td>0</td>\n",
       "      <td>0</td>\n",
       "      <td>0</td>\n",
       "    </tr>\n",
       "    <tr>\n",
       "      <th>4</th>\n",
       "      <td>13-03-2020</td>\n",
       "      <td>Karnataka</td>\n",
       "      <td>15.3173</td>\n",
       "      <td>75.7139</td>\n",
       "      <td>5</td>\n",
       "      <td>1</td>\n",
       "      <td>0</td>\n",
       "      <td>1</td>\n",
       "      <td>0</td>\n",
       "      <td>0</td>\n",
       "    </tr>\n",
       "  </tbody>\n",
       "</table>\n",
       "</div>"
      ],
      "text/plain": [
       "         Date Name of State / UT  Latitude  Longitude  Total Confirmed cases  \\\n",
       "0  09-03-2020          Karnataka   15.3173    75.7139                      1   \n",
       "1  10-03-2020          Karnataka   15.3173    75.7139                      4   \n",
       "2  11-03-2020          Karnataka   15.3173    75.7139                      4   \n",
       "3  12-03-2020          Karnataka   15.3173    75.7139                      4   \n",
       "4  13-03-2020          Karnataka   15.3173    75.7139                      5   \n",
       "\n",
       "  Death  Cured/Discharged/Migrated  New cases  New deaths  New recovered  \n",
       "0     0                          0          0           0              0  \n",
       "1     0                          0          3           0              0  \n",
       "2     0                          0          0           0              0  \n",
       "3     1                          0          0           0              0  \n",
       "4     1                          0          1           0              0  "
      ]
     },
     "execution_count": 14,
     "metadata": {},
     "output_type": "execute_result"
    }
   ],
   "source": [
    "df1.head()"
   ]
  },
  {
   "cell_type": "code",
   "execution_count": 15,
   "metadata": {},
   "outputs": [
    {
     "data": {
      "text/html": [
       "<div>\n",
       "<style scoped>\n",
       "    .dataframe tbody tr th:only-of-type {\n",
       "        vertical-align: middle;\n",
       "    }\n",
       "\n",
       "    .dataframe tbody tr th {\n",
       "        vertical-align: top;\n",
       "    }\n",
       "\n",
       "    .dataframe thead th {\n",
       "        text-align: right;\n",
       "    }\n",
       "</style>\n",
       "<table border=\"1\" class=\"dataframe\">\n",
       "  <thead>\n",
       "    <tr style=\"text-align: right;\">\n",
       "      <th></th>\n",
       "      <th>Date</th>\n",
       "      <th>Name of State / UT</th>\n",
       "      <th>Latitude</th>\n",
       "      <th>Longitude</th>\n",
       "      <th>Total Confirmed cases</th>\n",
       "      <th>Death</th>\n",
       "      <th>Cured/Discharged/Migrated</th>\n",
       "      <th>New cases</th>\n",
       "      <th>New deaths</th>\n",
       "      <th>New recovered</th>\n",
       "    </tr>\n",
       "  </thead>\n",
       "  <tbody>\n",
       "    <tr>\n",
       "      <th>142</th>\n",
       "      <td>02-08-2020</td>\n",
       "      <td>Karnataka</td>\n",
       "      <td>15.3173</td>\n",
       "      <td>75.7139</td>\n",
       "      <td>129287</td>\n",
       "      <td>2412</td>\n",
       "      <td>53648</td>\n",
       "      <td>5172</td>\n",
       "      <td>0</td>\n",
       "      <td>3860</td>\n",
       "    </tr>\n",
       "    <tr>\n",
       "      <th>143</th>\n",
       "      <td>03-08-2020</td>\n",
       "      <td>Karnataka</td>\n",
       "      <td>15.3173</td>\n",
       "      <td>75.7139</td>\n",
       "      <td>134819</td>\n",
       "      <td>2496</td>\n",
       "      <td>57725</td>\n",
       "      <td>5532</td>\n",
       "      <td>0</td>\n",
       "      <td>4077</td>\n",
       "    </tr>\n",
       "    <tr>\n",
       "      <th>144</th>\n",
       "      <td>04-08-2020</td>\n",
       "      <td>Karnataka</td>\n",
       "      <td>15.3173</td>\n",
       "      <td>75.7139</td>\n",
       "      <td>139571</td>\n",
       "      <td>2594</td>\n",
       "      <td>62500</td>\n",
       "      <td>4752</td>\n",
       "      <td>0</td>\n",
       "      <td>4775</td>\n",
       "    </tr>\n",
       "    <tr>\n",
       "      <th>145</th>\n",
       "      <td>05-08-2020</td>\n",
       "      <td>Karnataka</td>\n",
       "      <td>15.3173</td>\n",
       "      <td>75.7139</td>\n",
       "      <td>145830</td>\n",
       "      <td>2704</td>\n",
       "      <td>69272</td>\n",
       "      <td>6259</td>\n",
       "      <td>0</td>\n",
       "      <td>6772</td>\n",
       "    </tr>\n",
       "    <tr>\n",
       "      <th>146</th>\n",
       "      <td>06-08-2020</td>\n",
       "      <td>Karnataka</td>\n",
       "      <td>15.3173</td>\n",
       "      <td>75.7139</td>\n",
       "      <td>151449</td>\n",
       "      <td>2804</td>\n",
       "      <td>74679</td>\n",
       "      <td>5619</td>\n",
       "      <td>0</td>\n",
       "      <td>5407</td>\n",
       "    </tr>\n",
       "  </tbody>\n",
       "</table>\n",
       "</div>"
      ],
      "text/plain": [
       "           Date Name of State / UT  Latitude  Longitude  \\\n",
       "142  02-08-2020          Karnataka   15.3173    75.7139   \n",
       "143  03-08-2020          Karnataka   15.3173    75.7139   \n",
       "144  04-08-2020          Karnataka   15.3173    75.7139   \n",
       "145  05-08-2020          Karnataka   15.3173    75.7139   \n",
       "146  06-08-2020          Karnataka   15.3173    75.7139   \n",
       "\n",
       "     Total Confirmed cases Death  Cured/Discharged/Migrated  New cases  \\\n",
       "142                 129287  2412                      53648       5172   \n",
       "143                 134819  2496                      57725       5532   \n",
       "144                 139571  2594                      62500       4752   \n",
       "145                 145830  2704                      69272       6259   \n",
       "146                 151449  2804                      74679       5619   \n",
       "\n",
       "     New deaths  New recovered  \n",
       "142           0           3860  \n",
       "143           0           4077  \n",
       "144           0           4775  \n",
       "145           0           6772  \n",
       "146           0           5407  "
      ]
     },
     "execution_count": 15,
     "metadata": {},
     "output_type": "execute_result"
    }
   ],
   "source": [
    "df1.tail()"
   ]
  },
  {
   "cell_type": "code",
   "execution_count": 16,
   "metadata": {},
   "outputs": [],
   "source": [
    "df2 = df1[['Date','Total Confirmed cases']]"
   ]
  },
  {
   "cell_type": "code",
   "execution_count": 17,
   "metadata": {},
   "outputs": [
    {
     "data": {
      "text/html": [
       "<div>\n",
       "<style scoped>\n",
       "    .dataframe tbody tr th:only-of-type {\n",
       "        vertical-align: middle;\n",
       "    }\n",
       "\n",
       "    .dataframe tbody tr th {\n",
       "        vertical-align: top;\n",
       "    }\n",
       "\n",
       "    .dataframe thead th {\n",
       "        text-align: right;\n",
       "    }\n",
       "</style>\n",
       "<table border=\"1\" class=\"dataframe\">\n",
       "  <thead>\n",
       "    <tr style=\"text-align: right;\">\n",
       "      <th></th>\n",
       "      <th>Date</th>\n",
       "      <th>Total Confirmed cases</th>\n",
       "    </tr>\n",
       "  </thead>\n",
       "  <tbody>\n",
       "    <tr>\n",
       "      <th>0</th>\n",
       "      <td>09-03-2020</td>\n",
       "      <td>1</td>\n",
       "    </tr>\n",
       "    <tr>\n",
       "      <th>1</th>\n",
       "      <td>10-03-2020</td>\n",
       "      <td>4</td>\n",
       "    </tr>\n",
       "    <tr>\n",
       "      <th>2</th>\n",
       "      <td>11-03-2020</td>\n",
       "      <td>4</td>\n",
       "    </tr>\n",
       "    <tr>\n",
       "      <th>3</th>\n",
       "      <td>12-03-2020</td>\n",
       "      <td>4</td>\n",
       "    </tr>\n",
       "    <tr>\n",
       "      <th>4</th>\n",
       "      <td>13-03-2020</td>\n",
       "      <td>5</td>\n",
       "    </tr>\n",
       "  </tbody>\n",
       "</table>\n",
       "</div>"
      ],
      "text/plain": [
       "         Date  Total Confirmed cases\n",
       "0  09-03-2020                      1\n",
       "1  10-03-2020                      4\n",
       "2  11-03-2020                      4\n",
       "3  12-03-2020                      4\n",
       "4  13-03-2020                      5"
      ]
     },
     "execution_count": 17,
     "metadata": {},
     "output_type": "execute_result"
    }
   ],
   "source": [
    "df2.head()"
   ]
  },
  {
   "cell_type": "code",
   "execution_count": 18,
   "metadata": {},
   "outputs": [
    {
     "data": {
      "text/html": [
       "<div>\n",
       "<style scoped>\n",
       "    .dataframe tbody tr th:only-of-type {\n",
       "        vertical-align: middle;\n",
       "    }\n",
       "\n",
       "    .dataframe tbody tr th {\n",
       "        vertical-align: top;\n",
       "    }\n",
       "\n",
       "    .dataframe thead th {\n",
       "        text-align: right;\n",
       "    }\n",
       "</style>\n",
       "<table border=\"1\" class=\"dataframe\">\n",
       "  <thead>\n",
       "    <tr style=\"text-align: right;\">\n",
       "      <th></th>\n",
       "      <th>Total Confirmed cases</th>\n",
       "    </tr>\n",
       "  </thead>\n",
       "  <tbody>\n",
       "    <tr>\n",
       "      <th>count</th>\n",
       "      <td>147.000000</td>\n",
       "    </tr>\n",
       "    <tr>\n",
       "      <th>mean</th>\n",
       "      <td>18597.965986</td>\n",
       "    </tr>\n",
       "    <tr>\n",
       "      <th>std</th>\n",
       "      <td>35811.174138</td>\n",
       "    </tr>\n",
       "    <tr>\n",
       "      <th>min</th>\n",
       "      <td>1.000000</td>\n",
       "    </tr>\n",
       "    <tr>\n",
       "      <th>25%</th>\n",
       "      <td>259.000000</td>\n",
       "    </tr>\n",
       "    <tr>\n",
       "      <th>50%</th>\n",
       "      <td>1462.000000</td>\n",
       "    </tr>\n",
       "    <tr>\n",
       "      <th>75%</th>\n",
       "      <td>11464.000000</td>\n",
       "    </tr>\n",
       "    <tr>\n",
       "      <th>max</th>\n",
       "      <td>151449.000000</td>\n",
       "    </tr>\n",
       "  </tbody>\n",
       "</table>\n",
       "</div>"
      ],
      "text/plain": [
       "       Total Confirmed cases\n",
       "count             147.000000\n",
       "mean            18597.965986\n",
       "std             35811.174138\n",
       "min                 1.000000\n",
       "25%               259.000000\n",
       "50%              1462.000000\n",
       "75%             11464.000000\n",
       "max            151449.000000"
      ]
     },
     "execution_count": 18,
     "metadata": {},
     "output_type": "execute_result"
    }
   ],
   "source": [
    "df2.describe()"
   ]
  },
  {
   "cell_type": "code",
   "execution_count": 19,
   "metadata": {},
   "outputs": [
    {
     "data": {
      "text/plain": [
       "<Figure size 1296x576 with 0 Axes>"
      ]
     },
     "metadata": {},
     "output_type": "display_data"
    },
    {
     "data": {
      "image/png": "[encoded data removed]",
      "text/plain": [
       "<Figure size 1296x576 with 1 Axes>"
      ]
     },
     "metadata": {
      "needs_background": "light"
     },
     "output_type": "display_data"
    }
   ],
   "source": [
    "plt.figure(figsize=(18,8))\n",
    "df2.plot.line(x = 'Date', y = 'Total Confirmed cases',figsize=(18,8))\n",
    "plt.show()"
   ]
  },
  {
   "cell_type": "code",
   "execution_count": 20,
   "metadata": {},
   "outputs": [
    {
     "data": {
      "image/png": "[encoded data removed]",
      "text/plain": [
       "<Figure size 1296x576 with 1 Axes>"
      ]
     },
     "metadata": {
      "needs_background": "light"
     },
     "output_type": "display_data"
    }
   ],
   "source": [
    "df2.plot.hist(x = 'Date', y = 'Total Confirmed cases', figsize=(18,8))\n",
    "plt.show()"
   ]
  },
  {
   "cell_type": "code",
   "execution_count": 21,
   "metadata": {},
   "outputs": [],
   "source": [
    "import statsmodels.api as sm\n",
    "from statsmodels.tsa.ar_model import AR"
   ]
  },
  {
   "cell_type": "code",
   "execution_count": 22,
   "metadata": {},
   "outputs": [
    {
     "name": "stdout",
     "output_type": "stream",
     "text": [
      "Requirement already satisfied: statsmodels in c:\\users\\nagajyothi p\\anaconda3\\lib\\site-packages (0.13.2)\n",
      "Requirement already satisfied: numpy>=1.17 in c:\\users\\nagajyothi p\\anaconda3\\lib\\site-packages (from statsmodels) (1.21.5)\n",
      "Requirement already satisfied: scipy>=1.3 in c:\\users\\nagajyothi p\\anaconda3\\lib\\site-packages (from statsmodels) (1.7.3)\n",
      "Requirement already satisfied: pandas>=0.25 in c:\\users\\nagajyothi p\\anaconda3\\lib\\site-packages (from statsmodels) (1.4.2)\n",
      "Requirement already satisfied: patsy>=0.5.2 in c:\\users\\nagajyothi p\\anaconda3\\lib\\site-packages (from statsmodels) (0.5.2)\n",
      "Requirement already satisfied: packaging>=21.3 in c:\\users\\nagajyothi p\\anaconda3\\lib\\site-packages (from statsmodels) (21.3)\n",
      "Requirement already satisfied: pyparsing!=3.0.5,>=2.0.2 in c:\\users\\nagajyothi p\\anaconda3\\lib\\site-packages (from packaging>=21.3->statsmodels) (3.0.4)\n",
      "Requirement already satisfied: python-dateutil>=2.8.1 in c:\\users\\nagajyothi p\\anaconda3\\lib\\site-packages (from pandas>=0.25->statsmodels) (2.8.2)\n",
      "Requirement already satisfied: pytz>=2020.1 in c:\\users\\nagajyothi p\\anaconda3\\lib\\site-packages (from pandas>=0.25->statsmodels) (2021.3)\n",
      "Requirement already satisfied: six in c:\\users\\nagajyothi p\\anaconda3\\lib\\site-packages (from patsy>=0.5.2->statsmodels) (1.16.0)\n",
      "Note: you may need to restart the kernel to use updated packages.\n"
     ]
    }
   ],
   "source": [
    "pip install statsmodels"
   ]
  },
  {
   "cell_type": "code",
   "execution_count": 23,
   "metadata": {},
   "outputs": [
    {
     "name": "stdout",
     "output_type": "stream",
     "text": [
      "147\n"
     ]
    }
   ],
   "source": [
    "X = df2['Total Confirmed cases'].values\n",
    "print(len(X))"
   ]
  },
  {
   "cell_type": "code",
   "execution_count": 24,
   "metadata": {},
   "outputs": [],
   "source": [
    "X = np.log(X)\n",
    "#plt.plot(X)"
   ]
  },
  {
   "cell_type": "code",
   "execution_count": 25,
   "metadata": {},
   "outputs": [],
   "source": [
    "train, test = X[0:X.shape[0]-30], X[X.shape[0]-30:]"
   ]
  },
  {
   "cell_type": "code",
   "execution_count": 26,
   "metadata": {},
   "outputs": [
    {
     "name": "stdout",
     "output_type": "stream",
     "text": [
      "[ 0.          1.38629436  1.38629436  1.38629436  1.60943791  1.79175947\n",
      "  1.79175947  1.79175947  2.39789527  2.39789527  2.63905733  2.7080502\n",
      "  2.7080502   3.25809654  3.49650756  3.61091791  3.71357207  4.00733319\n",
      "  4.00733319  4.00733319  4.33073334  4.38202663  4.41884061  4.61512052\n",
      "  4.70048037  4.82028157  4.85203026  4.9698133   5.01727984  5.01727984\n",
      "  5.16478597  5.19849703  5.19849703  5.33271879  5.36597602  5.44673737\n",
      "  5.55295958  5.56068163  5.63121178  5.86646806  5.88332239  5.95064255\n",
      "  5.96614674  6.01126717  6.03548143  6.05678401  6.09807428  6.16120732\n",
      "  6.2146081   6.22059017  6.23832463  6.25958146  6.28226675  6.33682573\n",
      "  6.37842618  6.39859493  6.41999493  6.47850964  6.50876914  6.54103\n",
      "  6.5581978   6.62406523  6.67708346  6.74288064  6.75925527  6.82979374\n",
      "  6.86589107  6.89467004  6.96224346  6.99576616  7.04490512  7.1276937\n",
      "  7.24208236  7.28756064  7.38087904  7.46336305  7.58018942  7.64444076\n",
      "  7.68799717  7.73324565  7.79069603  7.83715965  7.93056585  7.98002359\n",
      "  8.07744715  8.13388089  8.24170316  8.3096769   8.37101068  8.48363641\n",
      "  8.55891078  8.60373779  8.65869275  8.68626063  8.70632484  8.73953642\n",
      "  8.78201597  8.82820109  8.85366543  8.88364023  8.92665032  8.95338147\n",
      "  8.98017221  9.02171901  9.07073342  9.12150916  9.14835858  9.18204377\n",
      "  9.22207129  9.30610499  9.38622459  9.48721425  9.5676651   9.71196378\n",
      "  9.79901553  9.97808469 10.13923139]\n"
     ]
    }
   ],
   "source": [
    "print(train)"
   ]
  },
  {
   "cell_type": "code",
   "execution_count": 27,
   "metadata": {},
   "outputs": [
    {
     "name": "stdout",
     "output_type": "stream",
     "text": [
      "[10.19671671 10.27080071 10.34512386 10.41684996 10.49725629 10.56728316\n",
      " 10.63539861 10.69369338 10.76327142 10.76327142 10.91717719 10.99628296\n",
      " 11.0630695  11.11869699 11.17140652 11.23628883 11.30051164 11.3605898\n",
      " 11.41797722 11.47357114 11.52746919 11.58059346 11.63074406 11.68378154\n",
      " 11.72896383 11.76979002 11.81168842 11.84632871 11.89019684 11.92800421]\n"
     ]
    }
   ],
   "source": [
    "print(test)"
   ]
  },
  {
   "cell_type": "code",
   "execution_count": 28,
   "metadata": {},
   "outputs": [],
   "source": [
    "# train autoregression\n",
    "model = sm.tsa.AutoReg(train, 12)\n",
    "model_fit = model.fit()"
   ]
  },
  {
   "cell_type": "code",
   "execution_count": 29,
   "metadata": {},
   "outputs": [],
   "source": [
    "# make predictions\n",
    "predictions = model_fit.predict(start=len(train), end=len(train)+29, dynamic=True)"
   ]
  },
  {
   "cell_type": "code",
   "execution_count": 30,
   "metadata": {},
   "outputs": [
    {
     "data": {
      "text/plain": [
       "array([10.19671671, 10.27080071, 10.34512386, 10.41684996, 10.49725629,\n",
       "       10.56728316, 10.63539861, 10.69369338, 10.76327142, 10.76327142,\n",
       "       10.91717719, 10.99628296, 11.0630695 , 11.11869699, 11.17140652,\n",
       "       11.23628883, 11.30051164, 11.3605898 , 11.41797722, 11.47357114,\n",
       "       11.52746919, 11.58059346, 11.63074406, 11.68378154, 11.72896383,\n",
       "       11.76979002, 11.81168842, 11.84632871, 11.89019684, 11.92800421])"
      ]
     },
     "execution_count": 30,
     "metadata": {},
     "output_type": "execute_result"
    }
   ],
   "source": [
    "test"
   ]
  },
  {
   "cell_type": "code",
   "execution_count": 31,
   "metadata": {},
   "outputs": [
    {
     "data": {
      "text/plain": [
       "array([10.21989867, 10.35978141, 10.48896501, 10.60585267, 10.71187951,\n",
       "       10.82397539, 10.91884364, 10.99829252, 11.09166944, 11.15638472,\n",
       "       11.22400724, 11.29364691, 11.34444171, 11.39374816, 11.44182334,\n",
       "       11.48603798, 11.52176374, 11.56054733, 11.59606645, 11.62544292,\n",
       "       11.65925735, 11.68921039, 11.71770356, 11.74811121, 11.77773686,\n",
       "       11.80633185, 11.83578492, 11.86675815, 11.89618318, 11.92705785])"
      ]
     },
     "execution_count": 31,
     "metadata": {},
     "output_type": "execute_result"
    }
   ],
   "source": [
    "predictions"
   ]
  },
  {
   "cell_type": "code",
   "execution_count": 32,
   "metadata": {},
   "outputs": [
    {
     "name": "stdout",
     "output_type": "stream",
     "text": [
      "MSE: 0.042485\n"
     ]
    }
   ],
   "source": [
    "from sklearn.metrics import mean_squared_error,r2_score\n",
    "\n",
    "mse = mean_squared_error(test, predictions)\n",
    "print('MSE: %f' % mse)"
   ]
  },
  {
   "cell_type": "code",
   "execution_count": 33,
   "metadata": {},
   "outputs": [
    {
     "name": "stdout",
     "output_type": "stream",
     "text": [
      "RMSE: 0.206119\n"
     ]
    }
   ],
   "source": [
    "from math import sqrt\n",
    "rmse = sqrt(mse)\n",
    "print('RMSE: %f' % rmse)"
   ]
  },
  {
   "cell_type": "code",
   "execution_count": 34,
   "metadata": {},
   "outputs": [
    {
     "name": "stdout",
     "output_type": "stream",
     "text": [
      "0.2061189693539319\n"
     ]
    }
   ],
   "source": [
    "print(rmse)"
   ]
  },
  {
   "cell_type": "code",
   "execution_count": 35,
   "metadata": {},
   "outputs": [
    {
     "name": "stdout",
     "output_type": "stream",
     "text": [
      "Accuracy Score 0.7938810306460681\n"
     ]
    }
   ],
   "source": [
    "print('Accuracy Score',1-rmse)"
   ]
  },
  {
   "cell_type": "code",
   "execution_count": 36,
   "metadata": {},
   "outputs": [],
   "source": [
    "Y = df2['Date']"
   ]
  },
  {
   "cell_type": "code",
   "execution_count": 37,
   "metadata": {},
   "outputs": [],
   "source": [
    "years = Y[len(train):]"
   ]
  },
  {
   "cell_type": "code",
   "execution_count": 38,
   "metadata": {},
   "outputs": [
    {
     "data": {
      "text/plain": [
       "30"
      ]
     },
     "execution_count": 38,
     "metadata": {},
     "output_type": "execute_result"
    }
   ],
   "source": [
    "len(predictions)"
   ]
  },
  {
   "cell_type": "code",
   "execution_count": 39,
   "metadata": {},
   "outputs": [
    {
     "data": {
      "text/plain": [
       "[<matplotlib.lines.Line2D at 0x1ed23428c10>]"
      ]
     },
     "execution_count": 39,
     "metadata": {},
     "output_type": "execute_result"
    },
    {
     "data": {
      "image/png": "[encoded data removed]",
      "text/plain": [
       "<Figure size 1296x576 with 1 Axes>"
      ]
     },
     "metadata": {
      "needs_background": "light"
     },
     "output_type": "display_data"
    }
   ],
   "source": [
    "plt.figure(figsize=(18,8))\n",
    "plt.plot(years, predictions, label='Predicted')\n",
    "plt.plot(years, test, label='Actual')"
   ]
  },
  {
   "cell_type": "markdown",
   "metadata": {},
   "source": [
    "# End..."
   ]
  },
  {
   "cell_type": "code",
   "execution_count": null,
   "metadata": {},
   "outputs": [],
   "source": []
  }
 ],
 "metadata": {
  "kernelspec": {
   "display_name": "Python 3 (ipykernel)",
   "language": "python",
   "name": "python3"
  },
  "language_info": {
   "codemirror_mode": {
    "name": "ipython",
    "version": 3
   },
   "file_extension": ".py",
   "mimetype": "text/x-python",
   "name": "python",
   "nbconvert_exporter": "python",
   "pygments_lexer": "ipython3",
   "version": "3.9.12"
  }
 },
 "nbformat": 4,
 "nbformat_minor": 2
}
